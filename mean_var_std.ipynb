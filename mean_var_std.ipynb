{
  "nbformat": 4,
  "nbformat_minor": 0,
  "metadata": {
    "colab": {
      "name": "mean_var_std",
      "provenance": [],
      "collapsed_sections": [],
      "authorship_tag": "ABX9TyNPHaimwGSE7z6kxTzUZ72v",
      "include_colab_link": true
    },
    "kernelspec": {
      "name": "python3",
      "display_name": "Python 3"
    },
    "language_info": {
      "name": "python"
    }
  },
  "cells": [
    {
      "cell_type": "markdown",
      "metadata": {
        "id": "view-in-github",
        "colab_type": "text"
      },
      "source": [
        "<a href=\"https://colab.research.google.com/github/nabin2055/Data-Analysis-Projects/blob/main/mean_var_std.ipynb\" target=\"_parent\"><img src=\"https://colab.research.google.com/assets/colab-badge.svg\" alt=\"Open In Colab\"/></a>"
      ]
    },
    {
      "cell_type": "code",
      "execution_count": 28,
      "metadata": {
        "colab": {
          "base_uri": "https://localhost:8080/"
        },
        "id": "-4lN9R7KxEXw",
        "outputId": "db319f95-579c-41cf-9ebe-5d6d39a23987"
      },
      "outputs": [
        {
          "output_type": "execute_result",
          "data": {
            "text/plain": [
              "{'max': [[6, 7, 8], [2, 5, 8], 8],\n",
              " 'mean': [[3.0, 4.0, 5.0], [1.0, 4.0, 7.0], 4.0],\n",
              " 'min': [[0, 1, 2], [0, 3, 6], 0],\n",
              " 'standard deviation': [[2.449489742783178,\n",
              "   2.449489742783178,\n",
              "   2.449489742783178],\n",
              "  [0.816496580927726, 0.816496580927726, 0.816496580927726],\n",
              "  2.581988897471611],\n",
              " 'sum': [[9, 12, 15], [3, 12, 21], 36],\n",
              " 'variance': [[6.0, 6.0, 6.0],\n",
              "  [0.6666666666666666, 0.6666666666666666, 0.6666666666666666],\n",
              "  6.666666666666667]}"
            ]
          },
          "metadata": {},
          "execution_count": 28
        }
      ],
      "source": [
        "import numpy as np\n",
        "\n",
        "\n",
        "\n",
        "def calculate(x):\n",
        "    if len(x)<9:\n",
        "      raise ValueError(\"List must contain nine numbers.\")\n",
        "    else:\n",
        "      nry = np.array(x)\n",
        "      nrry = np.reshape(nry,(3,3))\n",
        "      \n",
        "      mno = list(nrry.mean(axis=0))\n",
        "      mni = list(nrry.mean(axis=1))\n",
        "      fmn = nrry.flatten().mean()\n",
        "      \n",
        "      vro = list(nrry.var(axis=0))\n",
        "      vri = list(nrry.var(axis=1))\n",
        "      fvr = nrry.flatten().var()\n",
        "\n",
        "      sto = list(nrry.std(axis=0))\n",
        "      sti = list(nrry.std(axis=1))\n",
        "      fst = nrry.flatten().std()\n",
        "\n",
        "      mxo = list(nrry.max(axis=0))\n",
        "      mxi = list(nrry.max(axis=1))\n",
        "      fmx = nrry.flatten().max()\n",
        "\n",
        "      mio = list(nrry.min(axis=0))\n",
        "      mii = list(nrry.min(axis=1))\n",
        "      fmi = nrry.flatten().min()\n",
        "\n",
        "      smo = list(nrry.sum(axis=0))\n",
        "      smi = list(nrry.sum(axis=1))\n",
        "      fsm = nrry.flatten().sum()\n",
        "\n",
        "      dct = {\n",
        "       'mean':[mno, mni,fmn],\n",
        "       'variance':[vro,vri,fvr],\n",
        "       'standard deviation':[sto,sti,fst],\n",
        "       'max':[mxo,mxi,fmx],\n",
        "       'min':[mio,mii,fmi],\n",
        "       'sum':[smo,smi,fsm]\n",
        "      }\n",
        "\n",
        "      return dct\n",
        "     \n",
        "\n",
        "\n",
        "      \n",
        "\n",
        " \n",
        "      \n",
        "\n",
        "\n",
        "\n",
        "      \n",
        "    \n",
        "lst= [0,1,2,3,4,5,6,7,8]\n",
        "calculate(lst)\n",
        "\n",
        "\n"
      ]
    }
  ]
}